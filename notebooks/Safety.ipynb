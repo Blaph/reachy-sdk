{
 "cells": [
  {
   "cell_type": "markdown",
   "metadata": {},
   "source": [
    "## Safety first!"
   ]
  },
  {
   "cell_type": "markdown",
   "metadata": {},
   "source": [
    "In this notebook we will talk about safety, for the user and for Reachy."
   ]
  },
  {
   "cell_type": "markdown",
   "metadata": {},
   "source": [
    "First, check that Reachy is correctly attached to its metal support and that the support is well fixed to its table."
   ]
  },
  {
   "cell_type": "markdown",
   "metadata": {},
   "source": [
    "The four screws shown below must be well tightened.\n",
    "\n",
    "<img src=\"images/safety/reachy_back.jpeg\" alt=\"drawing\" width=\"300\"/>"
   ]
  },
  {
   "cell_type": "markdown",
   "metadata": {},
   "source": [
    "## Don't harm yourself..."
   ]
  },
  {
   "cell_type": "markdown",
   "metadata": {},
   "source": [
    "Even though there is little chance that you get hurt using Reachy, you must be aware of the working space of Reachy, the positions it can reach. \n",
    "\n",
    "We recommend that before you start programing it, move both Reachy's arms with your hands to get a sense of its working space so that you won't get surprised when you actually send it commands."
   ]
  },
  {
   "cell_type": "markdown",
   "metadata": {},
   "source": [
    "## and don't harm Reachy!"
   ]
  },
  {
   "cell_type": "markdown",
   "metadata": {},
   "source": [
    "There are a few things you need to know to make sure that your Reachy doesn't get damaged when using it."
   ]
  },
  {
   "cell_type": "markdown",
   "metadata": {},
   "source": [
    "### Don't stay in stiff mode if you're not moving the robot. "
   ]
  },
  {
   "cell_type": "markdown",
   "metadata": {},
   "source": [
    "As mentionned in the Joint control noteboook **add link**, the goal positions of the joints are only used when the motors are in stiff mode. In stiff mode you can hear a small crackle and the joints can't bemoved by hands.\n",
    "\n",
    "In this mode, the motors use their maximum torque to maintain their present position until a goal position is sent.\n",
    "\n",
    "Let's put Reachy's joints in stiff mode."
   ]
  },
  {
   "cell_type": "code",
   "execution_count": 1,
   "metadata": {},
   "outputs": [],
   "source": [
    "from reachy_sdk import ReachySDK"
   ]
  },
  {
   "cell_type": "code",
   "execution_count": 2,
   "metadata": {},
   "outputs": [],
   "source": [
    "reachy = ReachySDK(host='localhost')"
   ]
  },
  {
   "cell_type": "code",
   "execution_count": 3,
   "metadata": {},
   "outputs": [],
   "source": [
    "for joint in reachy.joints:\n",
    "    joint.compliant = False"
   ]
  },
  {
   "cell_type": "markdown",
   "metadata": {},
   "source": [
    "You should hear a small noise coming from the motors, it's totally normal when they are in stiff mode.\n",
    "\n",
    "Try to move the arms with your hands, you should not be able to move them and you should feel the resitance applied by the motors to stay in their position. \n",
    "\n",
    "Now let's turn back the joints to compliant mode."
   ]
  },
  {
   "cell_type": "code",
   "execution_count": 4,
   "metadata": {},
   "outputs": [],
   "source": [
    "for joint in reachy.joints:\n",
    "    joint.compliant = True"
   ]
  },
  {
   "cell_type": "markdown",
   "metadata": {},
   "source": [
    "#### What you need to keep in mind"
   ]
  },
  {
   "cell_type": "markdown",
   "metadata": {},
   "source": [
    "You must be careful not to let the joints in stiff mode when you're not using the robot.\n",
    "\n",
    "If an arm is lifted or if the neck is lowered, maintaining the position in stiff mode will be really demanding becuase the motors would have to compensate the gravity and they could get damaged.\n",
    "\n",
    "You can make the analogy with a human. If we ask you to keep stretched out arms, after a certain time it will be painful. So is the case for the joints of the robot. "
   ]
  },
  {
   "cell_type": "markdown",
   "metadata": {},
   "source": [
    "### Be aware of obstacles"
   ]
  },
  {
   "cell_type": "markdown",
   "metadata": {},
   "source": [
    "When you are sending movements instructions to Reachy, be careful to obstacles. For example, be aware o\n",
    "\n",
    "dont hit the other arm of Reachy, don't hit the chest, inverse can send you anywhere"
   ]
  },
  {
   "cell_type": "markdown",
   "metadata": {},
   "source": [
    "### Check the temperatures"
   ]
  },
  {
   "cell_type": "markdown",
   "metadata": {},
   "source": [
    "Reachy's motors will heat when you are using its joints so you should manage the motors temperatures.\n",
    "\n",
    "The temperatures of each motor can be accessed using the ReachySDK."
   ]
  },
  {
   "cell_type": "code",
   "execution_count": 5,
   "metadata": {},
   "outputs": [
    {
     "name": "stdout",
     "output_type": "stream",
     "text": [
      "l_shoulder_pitch joint has temperature 36.0 Celsius degrees.\n",
      "l_shoulder_roll joint has temperature 37.0 Celsius degrees.\n",
      "l_arm_yaw joint has temperature 37.0 Celsius degrees.\n",
      "l_elbow_pitch joint has temperature 37.0 Celsius degrees.\n",
      "l_forearm_yaw joint has temperature 34.0 Celsius degrees.\n",
      "l_wrist_pitch joint has temperature 36.0 Celsius degrees.\n",
      "l_wrist_roll joint has temperature 34.0 Celsius degrees.\n",
      "l_gripper joint has temperature 35.0 Celsius degrees.\n",
      "r_shoulder_pitch joint has temperature 37.0 Celsius degrees.\n",
      "r_shoulder_roll joint has temperature 38.0 Celsius degrees.\n",
      "r_arm_yaw joint has temperature 37.0 Celsius degrees.\n",
      "r_elbow_pitch joint has temperature 37.0 Celsius degrees.\n",
      "r_forearm_yaw joint has temperature 32.0 Celsius degrees.\n",
      "r_wrist_pitch joint has temperature 35.0 Celsius degrees.\n",
      "r_wrist_roll joint has temperature 34.0 Celsius degrees.\n",
      "r_gripper joint has temperature 34.0 Celsius degrees.\n",
      "l_antenna joint has temperature 29.0 Celsius degrees.\n",
      "r_antenna joint has temperature 28.0 Celsius degrees.\n",
      "neck_disk_top joint has temperature 23.375 Celsius degrees.\n",
      "neck_disk_middle joint has temperature 23.1875 Celsius degrees.\n",
      "neck_disk_bottom joint has temperature 22.75 Celsius degrees.\n"
     ]
    }
   ],
   "source": [
    "for joint in reachy.joints:\n",
    "    print(f'{joint.name} joint has temperature {joint.temperature} Celsius degrees.')"
   ]
  },
  {
   "cell_type": "markdown",
   "metadata": {},
   "source": [
    "There are two important temperatures values to know, their values depend on Reachy's part:\n",
    "\n",
    "* **fan trigger temperature**: temperature at which the motor will start to get hot and the matching fan will be turned on. The fans allow to work longer with hot joints but enventually the temperature will keep rising if the joints keep being sollicitated. On Reachy's arms: 45°C, on Reachy's neck: 35°C.\n",
    "\n",
    "\n",
    "* **shutdown temperature**: when this temperature is reached, the motor will normally shutdown and stop working until it has cooled down. This is a precaution measure to protect the motor. On Reachy's arms: 55°C, on Reachy's neck: 50°C."
   ]
  },
  {
   "cell_type": "code",
   "execution_count": null,
   "metadata": {},
   "outputs": [],
   "source": []
  }
 ],
 "metadata": {
  "kernelspec": {
   "display_name": "Python 3",
   "language": "python",
   "name": "python3"
  },
  "language_info": {
   "codemirror_mode": {
    "name": "ipython",
    "version": 3
   },
   "file_extension": ".py",
   "mimetype": "text/x-python",
   "name": "python",
   "nbconvert_exporter": "python",
   "pygments_lexer": "ipython3",
   "version": "3.8.5"
  }
 },
 "nbformat": 4,
 "nbformat_minor": 4
}
