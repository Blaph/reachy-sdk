{
 "cells": [
  {
   "cell_type": "markdown",
   "metadata": {},
   "source": [
    "## Reachy's joints"
   ]
  },
  {
   "cell_type": "markdown",
   "metadata": {},
   "source": [
    "In this notebook you will learn how to use Reachy's SDK to control Reachy's motors!"
   ]
  },
  {
   "cell_type": "markdown",
   "metadata": {},
   "source": [
    "First, you need to connect to your Reachy. You will use *ReachySDK* for that.\n",
    "The *ReachySDK* object takes three arguments at init, one of them is *host* (you don't need to worry about the others).\n",
    "\n",
    "If you're working directly on Reachy, use \n",
    "```python\n",
    "host='localhost'\n",
    "```\n",
    "If not, just get Reachy's IP address with\n",
    "```bash\n",
    "$ ifconfig\n",
    "```\n",
    "and put this addreess in the *host* argument."
   ]
  },
  {
   "cell_type": "code",
   "execution_count": 1,
   "metadata": {},
   "outputs": [],
   "source": [
    "from reachy_sdk import ReachySDK"
   ]
  },
  {
   "cell_type": "code",
   "execution_count": 2,
   "metadata": {},
   "outputs": [],
   "source": [
    "reachy = ReachySDK(host='localhost')"
   ]
  },
  {
   "cell_type": "markdown",
   "metadata": {},
   "source": [
    "You can use ReachySDK from any computer, as long as it and Reachy are connected to the same network."
   ]
  },
  {
   "cell_type": "markdown",
   "metadata": {},
   "source": [
    "There are 21 motors in Reachy's advanced version: 8 per arm, 3 for the orbita actuator used as the neck and 1 per antenna.\n",
    "\n",
    "With the *reachy* you just instanciated, you can easily access each joints."
   ]
  },
  {
   "cell_type": "code",
   "execution_count": 3,
   "metadata": {},
   "outputs": [
    {
     "data": {
      "text/plain": [
       "<Holder\n",
       "\t<Joint name=\"l_shoulder_pitch\" pos=\"11.36\" mode=\"compliant\">\n",
       "\t<Joint name=\"l_shoulder_roll\" pos=\"1.91\" mode=\"compliant\">\n",
       "\t<Joint name=\"l_arm_yaw\" pos=\"-64.04\" mode=\"compliant\">\n",
       "\t<Joint name=\"l_elbow_pitch\" pos=\"-56.13\" mode=\"compliant\">\n",
       "\t<Joint name=\"l_forearm_yaw\" pos=\"-17.74\" mode=\"compliant\">\n",
       "\t<Joint name=\"l_wrist_pitch\" pos=\"-38.99\" mode=\"compliant\">\n",
       "\t<Joint name=\"l_wrist_roll\" pos=\"-6.30\" mode=\"compliant\">\n",
       "\t<Joint name=\"l_gripper\" pos=\"-2.49\" mode=\"compliant\">\n",
       "\t<Joint name=\"r_shoulder_pitch\" pos=\"8.46\" mode=\"compliant\">\n",
       "\t<Joint name=\"r_shoulder_roll\" pos=\"-4.99\" mode=\"compliant\">\n",
       "\t<Joint name=\"r_arm_yaw\" pos=\"12.53\" mode=\"compliant\">\n",
       "\t<Joint name=\"r_elbow_pitch\" pos=\"-63.52\" mode=\"compliant\">\n",
       "\t<Joint name=\"r_forearm_yaw\" pos=\"2.20\" mode=\"compliant\">\n",
       "\t<Joint name=\"r_wrist_pitch\" pos=\"-31.60\" mode=\"compliant\">\n",
       "\t<Joint name=\"r_wrist_roll\" pos=\"-20.97\" mode=\"compliant\">\n",
       "\t<Joint name=\"r_gripper\" pos=\"-16.28\" mode=\"compliant\">\n",
       "\t<Joint name=\"l_antenna\" pos=\"140.32\" mode=\"compliant\">\n",
       "\t<Joint name=\"r_antenna\" pos=\"78.74\" mode=\"compliant\">\n",
       "\t<Joint name=\"neck_disk_top\" pos=\"-66.57\" mode=\"compliant\">\n",
       "\t<Joint name=\"neck_disk_middle\" pos=\"-123.48\" mode=\"compliant\">\n",
       "\t<Joint name=\"neck_disk_bottom\" pos=\"-52.37\" mode=\"compliant\">\n",
       ">"
      ]
     },
     "execution_count": 3,
     "metadata": {},
     "output_type": "execute_result"
    }
   ],
   "source": [
    "reachy.joints"
   ]
  },
  {
   "cell_type": "markdown",
   "metadata": {},
   "source": [
    "You can identify each arm joint with the documentation: \n",
    "\n",
    "<img src=\"https://raw.githubusercontent.com/pollen-robotics/reachy-sdk/main/notebooks/images/joint_control/arm_schematic.png\" alt=\"drawing\" width=\"400\"/>\n",
    "\n",
    "Same with Obita:\n",
    "\n",
    "<img src=\"https://raw.githubusercontent.com/pollen-robotics/reachy-sdk/main/notebooks/images/joint_control/orbita.png\" alt=\"drawing\" width=\"700\"/>"
   ]
  },
  {
   "cell_type": "markdown",
   "metadata": {},
   "source": [
    "For each joint, you can have acces to multiple information such as the position or the temperature, using the *registers()* method. "
   ]
  },
  {
   "cell_type": "code",
   "execution_count": 4,
   "metadata": {},
   "outputs": [
    {
     "data": {
      "text/plain": [
       "{'name': 'r_shoulder_pitch',\n",
       " 'uid': 8,\n",
       " 'present_position': 8.463208853387345,\n",
       " 'temperature': 41.0,\n",
       " 'compliant': True,\n",
       " 'goal_position': 2.8763640545518543,\n",
       " 'speed_limit': 0.0,\n",
       " 'torque_limit': 100.0,\n",
       " 'pid': (32.0, 0.0, 0.0)}"
      ]
     },
     "execution_count": 4,
     "metadata": {},
     "output_type": "execute_result"
    }
   ],
   "source": [
    "reachy.r_arm.r_shoulder_pitch.registers()"
   ]
  },
  {
   "cell_type": "markdown",
   "metadata": {},
   "source": [
    "### Name/uid"
   ]
  },
  {
   "cell_type": "markdown",
   "metadata": {},
   "source": [
    "Each joint has a name and a unique id associated so that when you want to get joints information, use the kinematics or use the *goto* function, you can either use the name or the id."
   ]
  },
  {
   "cell_type": "code",
   "execution_count": 5,
   "metadata": {},
   "outputs": [
    {
     "name": "stdout",
     "output_type": "stream",
     "text": [
      "l_shoulder_pitch got id 0\n",
      "l_shoulder_roll got id 1\n",
      "l_arm_yaw got id 2\n",
      "l_elbow_pitch got id 3\n",
      "l_forearm_yaw got id 4\n",
      "l_wrist_pitch got id 5\n",
      "l_wrist_roll got id 6\n",
      "l_gripper got id 7\n",
      "r_shoulder_pitch got id 8\n",
      "r_shoulder_roll got id 9\n",
      "r_arm_yaw got id 10\n",
      "r_elbow_pitch got id 11\n",
      "r_forearm_yaw got id 12\n",
      "r_wrist_pitch got id 13\n",
      "r_wrist_roll got id 14\n",
      "r_gripper got id 15\n",
      "l_antenna got id 16\n",
      "r_antenna got id 17\n",
      "neck_disk_top got id 18\n",
      "neck_disk_middle got id 19\n",
      "neck_disk_bottom got id 20\n"
     ]
    }
   ],
   "source": [
    "for joint in reachy.joints.values():\n",
    "    print(f'{joint.name} got id {joint.uid}')"
   ]
  },
  {
   "cell_type": "markdown",
   "metadata": {},
   "source": [
    "### Present position"
   ]
  },
  {
   "cell_type": "markdown",
   "metadata": {},
   "source": [
    "You can get the present position of each Reachy's joint.\n",
    "\n",
    "This can be useful when you want to record a movement. For example you want to lift an object, you move the arm once yourself, store the *present_position* of each joint involved and replay it. This what we used to get the movements in our [Tictactoe application](https://www.youtube.com/watch?v=aGheS4HXEvI)!\n",
    "\n",
    "Also if you want to teach movements to the robot with learning technics, storing the *present_position* of the joints will help you build a dataset.  "
   ]
  },
  {
   "cell_type": "code",
   "execution_count": 8,
   "metadata": {},
   "outputs": [
    {
     "name": "stdout",
     "output_type": "stream",
     "text": [
      "Present position of r_shoulder_pitch joint is -15.7 degrees.\n"
     ]
    }
   ],
   "source": [
    "# for joint in reachy.joints:\n",
    "print(f'Present position of r_shoulder_pitch joint is {reachy.r_arm.r_shoulder_pitch.present_position:.1f} degrees.')"
   ]
  },
  {
   "cell_type": "markdown",
   "metadata": {},
   "source": [
    "### Temperature"
   ]
  },
  {
   "cell_type": "markdown",
   "metadata": {},
   "source": [
    "You also have access to each motors temperatures with the *temperature* attribute of each joint. \n",
    "This temperature should be checked to make sure that the robot can operate correctly. The temperature is also monitored internally in Reachy and fans are turned on when the joints are heating.  \n",
    "\n",
    "\n",
    "See [Safety.ipynb notebook](https://github.com/pollen-robotics/reachy-sdk/blob/notebooks_documentation/notebooks/Safety.ipynb) for more information."
   ]
  },
  {
   "cell_type": "code",
   "execution_count": 9,
   "metadata": {},
   "outputs": [
    {
     "name": "stdout",
     "output_type": "stream",
     "text": [
      "Temperature of r_shoulder_pitch joint is 41.0 Celsius degrees.\n"
     ]
    }
   ],
   "source": [
    "# for joint in reachy.joints:\n",
    "print(f'Temperature of r_shoulder_pitch joint is {reachy.r_arm.r_shoulder_pitch.temperature} Celsius degrees.')"
   ]
  },
  {
   "cell_type": "markdown",
   "metadata": {},
   "source": [
    "### Compliant"
   ]
  },
  {
   "cell_type": "markdown",
   "metadata": {},
   "source": [
    "Each Reachy's joint can be in two modes: **compliant** and **stiff**.\n",
    "\n",
    "In the compliant mode, you can move the joint freely with your hands. \n",
    "\n",
    "In stiff mode, the joint will use its torque to stay in its present position. You can not move a motor in stiff mode with your hands. The only way to move the joint is by setting its *goal_position*. \n",
    "\n",
    "**Important:** Keep that in mind, if a joint does not move when you're changing its *goal_position*, it's very likely that it is in compliant mode."
   ]
  },
  {
   "cell_type": "markdown",
   "metadata": {},
   "source": [
    "Right now, Reachy's joints are in compliant mode, you can move each joint with your hands, try it!\n",
    "\n",
    "Now let's turn Reachy's joints in stiff mode so that you can feel the difference. You should hear a small noise when the joints are in stiff mode, the noise should increase if you try to move with your hands a joint in stiff mode."
   ]
  },
  {
   "cell_type": "code",
   "execution_count": 4,
   "metadata": {},
   "outputs": [],
   "source": [
    "reachy.turn_on('reachy')"
   ]
  },
  {
   "cell_type": "markdown",
   "metadata": {},
   "source": [
    "Try to move with the arms or the head, you should feel the joints resisting. \n",
    "\n",
    "Now, let's put the joints back to compliant mode."
   ]
  },
  {
   "cell_type": "code",
   "execution_count": 5,
   "metadata": {},
   "outputs": [],
   "source": [
    "reachy.turn_off('reachy')"
   ]
  },
  {
   "cell_type": "markdown",
   "metadata": {},
   "source": [
    "### Goal position"
   ]
  },
  {
   "cell_type": "markdown",
   "metadata": {},
   "source": [
    "As mentionned before, the *goal_position* attribute of a joint is what you need to set to move a joint.\n",
    "\n",
    "For example, let's put the right arm in the right-angled position. \n",
    "\n",
    "**Important:** Make sure that the arm is placed on a table before and that there are no obstacles preventing Reachy from executing this movement. "
   ]
  },
  {
   "cell_type": "code",
   "execution_count": 12,
   "metadata": {},
   "outputs": [],
   "source": [
    "reachy.turn_off('r_arm')"
   ]
  },
  {
   "cell_type": "code",
   "execution_count": 11,
   "metadata": {},
   "outputs": [],
   "source": [
    "# First, put the arm's joints in stiff mode\n",
    "reachy.turn_on('r_arm')\n",
    "\n",
    "# Define what the goal_position of each joint will be\n",
    "right_angle_position = {\n",
    "    reachy.r_arm.r_shoulder_pitch: 0,\n",
    "    reachy.r_arm.r_shoulder_roll: 0,\n",
    "    reachy.r_arm.r_arm_yaw: 0,\n",
    "    reachy.r_arm.r_elbow_pitch: -90,\n",
    "    reachy.r_arm.r_forearm_yaw: 0,\n",
    "    reachy.r_arm.r_wrist_pitch: 0,\n",
    "    reachy.r_arm.r_wrist_roll: 0,\n",
    "    reachy.r_arm.r_gripper: 0,\n",
    "}\n",
    "\n",
    "#Set each goal_position\n",
    "\n",
    "for joint, goal in right_angle_position.items():\n",
    "    joint.goal_position = goal"
   ]
  },
  {
   "cell_type": "markdown",
   "metadata": {},
   "source": [
    "Normally Reachy's right arm should be in the right-angled position!\n",
    "\n",
    "Now we will put the arm back on the table by putting the joints in compliant mode. Place your hand below the arm to prevent it from falling hard on the table. "
   ]
  },
  {
   "cell_type": "code",
   "execution_count": 9,
   "metadata": {},
   "outputs": [],
   "source": [
    "reachy.turn_off('r_arm')"
   ]
  },
  {
   "cell_type": "markdown",
   "metadata": {},
   "source": [
    "### Torque/Speed limit"
   ]
  },
  {
   "cell_type": "markdown",
   "metadata": {},
   "source": [
    "The torque limit represents the percentage of maximum torque that the motor will use to stay in its present position when it is in stiff mode.\n",
    "We set it to 100% on each joint."
   ]
  },
  {
   "cell_type": "code",
   "execution_count": 13,
   "metadata": {},
   "outputs": [
    {
     "data": {
      "text/plain": [
       "100.0"
      ]
     },
     "execution_count": 13,
     "metadata": {},
     "output_type": "execute_result"
    }
   ],
   "source": [
    "reachy.r_arm.r_shoulder_pitch.torque_limit"
   ]
  },
  {
   "cell_type": "markdown",
   "metadata": {},
   "source": [
    "According to the motors documentation, the speed is in rpm (raw per minute).\n",
    "\n",
    "<img src=\"https://raw.githubusercontent.com/pollen-robotics/reachy-sdk/main/notebooks/images/joint_control/dynamixel_speed.png\" alt=\"drawing\" width=\"600\"/>\n",
    "\n",
    "source: https://emanual.robotis.com/docs/en/dxl/ax/ax-18a/#ccw-angle-limit\n",
    "\n",
    "We set the speed limit to 0 on each joint, meaning that the motors work at maximum speed. "
   ]
  },
  {
   "cell_type": "code",
   "execution_count": 14,
   "metadata": {},
   "outputs": [
    {
     "data": {
      "text/plain": [
       "0.0"
      ]
     },
     "execution_count": 14,
     "metadata": {},
     "output_type": "execute_result"
    }
   ],
   "source": [
    "reachy.r_arm.r_shoulder_pitch.speed_limit"
   ]
  },
  {
   "cell_type": "markdown",
   "metadata": {},
   "source": [
    "**Important:** We recommand you NOT to change these values. When you want to make movements with Reachy, it's better to replay recorded trajectories or to work with the *goto* function from the API. *goto* computes a trajectory betweeen two points, see [Kinematics.ipynb](https://github.com/pollen-robotics/reachy-sdk/blob/notebooks_documentation/notebooks/Kinematics.ipynb) for more details.  "
   ]
  },
  {
   "cell_type": "markdown",
   "metadata": {},
   "source": [
    "### PID"
   ]
  },
  {
   "cell_type": "markdown",
   "metadata": {},
   "source": [
    "You can check and set the pid of each joint with the *pid* attribute."
   ]
  },
  {
   "cell_type": "code",
   "execution_count": 15,
   "metadata": {},
   "outputs": [
    {
     "data": {
      "text/plain": [
       "(32.0, 0.0, 0.0)"
      ]
     },
     "execution_count": 15,
     "metadata": {},
     "output_type": "execute_result"
    }
   ],
   "source": [
    "reachy.r_arm.r_shoulder_pitch.pid"
   ]
  },
  {
   "cell_type": "markdown",
   "metadata": {},
   "source": [
    "If you are familiar with control theory, you'll know what it represents, if not don't worry just ignore it! "
   ]
  }
 ],
 "metadata": {
  "kernelspec": {
   "display_name": "Python 3",
   "language": "python",
   "name": "python3"
  },
  "language_info": {
   "codemirror_mode": {
    "name": "ipython",
    "version": 3
   },
   "file_extension": ".py",
   "mimetype": "text/x-python",
   "name": "python",
   "nbconvert_exporter": "python",
   "pygments_lexer": "ipython3",
   "version": "3.8.5"
  }
 },
 "nbformat": 4,
 "nbformat_minor": 4
}
