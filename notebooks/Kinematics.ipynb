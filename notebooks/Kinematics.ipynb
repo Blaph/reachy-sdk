{
 "cells": [
  {
   "cell_type": "markdown",
   "metadata": {},
   "source": [
    "# Reachy kinematics"
   ]
  },
  {
   "cell_type": "markdown",
   "metadata": {},
   "source": [
    "In this notebook we will talk about kinematics!"
   ]
  },
  {
   "cell_type": "markdown",
   "metadata": {},
   "source": [
    "As explained in other notebooks, you can change with the SDK the position of the joints if and only if the motors are in stiff mode. There are two ways to send a new target position: \n",
    "\n",
    "* **goal_position**: when this attribute is set, the joint will try to reach it as fast as it can and it can be pretty fast (up to 700 degrees per second). You can lower the *speed_limit* but we don't recommend to use this method as it gets really hard to follow complex trajectories and have precise timing. Even though you can change the motor speed, you have no control over the acceleration.  \n",
    "\n",
    "\n",
    "* **goto()**: instead of playing with the goal_position you can use the *goto* method that is implemented in the SDK. This method generates a trajectory between the present position and the goal position. This trajectory is then interpolated at a predefined frequency (100Hz) to compute all intermediary target position that should be followed before reaching the final goal position. Depending on the interpolation mode chosen, you can have a better control over speed and acceleration.\n",
    "\n",
    "The two interpolation modes that we use consist in working either linearly or with the minjerk function.\n",
    "\n",
    "<img src=\"https://raw.githubusercontent.com/pollen-robotics/reachy-sdk/notebooks_documentation/notebooks/images/kinematics/interpolation.png?token=AHZJ5IBL7QZHESYVASSGUEDAMG7FU\" alt=\"drawing\" width=\"500\"/>"
   ]
  },
  {
   "cell_type": "markdown",
   "metadata": {},
   "source": [
    "Both trajectories start and finish at the same point but don't follow the same intermediate positions.\n",
    "The minimum jerk will slowly accelerate at the begining and slowly decelerate at the end. This make the movements way more natural, you'll see this below."
   ]
  },
  {
   "cell_type": "markdown",
   "metadata": {},
   "source": [
    "Now let's make our robot move! We will make the same arm movement but in three different ways, by setting the *goal_position* and using the *goto* method with each interpolation mode."
   ]
  },
  {
   "cell_type": "markdown",
   "metadata": {},
   "source": [
    "We will put Reachy's right arm in the right-angled position. First, place it on a table and make sure that there are no obstacles along its way."
   ]
  },
  {
   "cell_type": "code",
   "execution_count": 1,
   "metadata": {},
   "outputs": [],
   "source": [
    "from reachy_sdk import ReachySDK\n",
    "\n",
    "from reachy_sdk.trajectory.interpolation import InterpolationMode"
   ]
  },
  {
   "cell_type": "code",
   "execution_count": 2,
   "metadata": {},
   "outputs": [],
   "source": [
    "reachy = ReachySDK(host='localhost')"
   ]
  },
  {
   "cell_type": "code",
   "execution_count": 3,
   "metadata": {},
   "outputs": [
    {
     "name": "stdout",
     "output_type": "stream",
     "text": [
      "r_shoulder_pitch\n",
      "r_shoulder_roll\n",
      "r_arm_yaw\n",
      "r_elbow_pitch\n",
      "r_forearm_yaw\n",
      "r_wrist_pitch\n",
      "r_wrist_roll\n",
      "r_gripper\n"
     ]
    }
   ],
   "source": [
    "# Reachy's right arm joints are joints 8 to 15\n",
    "for joint in reachy.joints[8:16]:\n",
    "    print(joint.name)"
   ]
  },
  {
   "cell_type": "markdown",
   "metadata": {},
   "source": [
    "### goal_position"
   ]
  },
  {
   "cell_type": "markdown",
   "metadata": {},
   "source": [
    "First, we will use set the *goal_psoition* on each joint to put the right arm in a right-angled position. "
   ]
  },
  {
   "cell_type": "code",
   "execution_count": 3,
   "metadata": {},
   "outputs": [],
   "source": [
    "for joint in reachy.joints[8:16]:\n",
    "    joint.compliant = False\n",
    "\n",
    "# Define what the goal_position of each joint will be\n",
    "right_angle_position = {\n",
    "    'r_shoulder_pitch': 0,\n",
    "    'r_shoulder_roll': 0,\n",
    "    'r_arm_yaw': 0,\n",
    "    'r_elbow_pitch': -90,\n",
    "    'r_forearm_yaw': 0,\n",
    "    'r_wrist_pitch': 0,\n",
    "    'r_wrist_roll': 0,\n",
    "    'r_gripper': 0,\n",
    "}\n",
    "\n",
    "#Set each goal_position\n",
    "from operator import attrgetter\n",
    "\n",
    "for name, goal in zip(right_angle_position.keys(), right_angle_position.values()):\n",
    "    joint = attrgetter(name)(reachy)\n",
    "    joint.goal_position = goal"
   ]
  },
  {
   "cell_type": "markdown",
   "metadata": {},
   "source": [
    "A bit too fast, isn't it? The problem with this is that you can't control the movement's speed."
   ]
  },
  {
   "cell_type": "markdown",
   "metadata": {},
   "source": [
    "Now we will put the joints back to compliant mode, so put your hand below the arm to prevent the arm from falling on the table."
   ]
  },
  {
   "cell_type": "code",
   "execution_count": 4,
   "metadata": {},
   "outputs": [],
   "source": [
    "for joint in reachy.joints[8:16]:\n",
    "    joint.compliant = True"
   ]
  },
  {
   "cell_type": "markdown",
   "metadata": {},
   "source": [
    "### goto with linear interpolation"
   ]
  },
  {
   "cell_type": "code",
   "execution_count": 56,
   "metadata": {},
   "outputs": [],
   "source": [
    "# First put the joints of the right arm in stiff mode\n",
    "for joint in reachy.joints[8:16]:\n",
    "    joint.compliant = False"
   ]
  },
  {
   "cell_type": "code",
   "execution_count": 57,
   "metadata": {},
   "outputs": [],
   "source": [
    "reachy.goto(\n",
    "    {getattr(reachy, joint.name): gp for joint, gp in zip(reachy.joints[8:16], harder_pos.values())},\n",
    "duration=2.0,\n",
    "interpolation_mode=InterpolationMode.LINEAR,\n",
    ")"
   ]
  },
  {
   "cell_type": "code",
   "execution_count": 58,
   "metadata": {},
   "outputs": [],
   "source": [
    "# First put the joints of the right arm in stiff mode\n",
    "for joint in reachy.joints[8:16]:\n",
    "    joint.compliant = True"
   ]
  },
  {
   "cell_type": "markdown",
   "metadata": {},
   "source": [
    "### goto with minjerk interpolation"
   ]
  },
  {
   "cell_type": "code",
   "execution_count": 59,
   "metadata": {},
   "outputs": [],
   "source": [
    "# First put the joints of the right arm in stiff mode\n",
    "for joint in reachy.joints[8:16]:\n",
    "    joint.compliant = False"
   ]
  },
  {
   "cell_type": "code",
   "execution_count": 60,
   "metadata": {},
   "outputs": [],
   "source": [
    "reachy.goto(\n",
    "    {getattr(reachy, joint.name): gp for joint, gp in zip(reachy.joints[8:16], harder_pos.values())},\n",
    "duration=2.0,\n",
    "interpolation_mode=InterpolationMode.MINIMUM_JERK\n",
    ")"
   ]
  },
  {
   "cell_type": "code",
   "execution_count": 61,
   "metadata": {},
   "outputs": [],
   "source": [
    "for joint in reachy.joints[8:16]:\n",
    "    joint.compliant = True"
   ]
  },
  {
   "cell_type": "markdown",
   "metadata": {},
   "source": [
    "The use of goto has the advantage of giving control easily on the trajectory time. The difference between the two interpolation modes might not be huge on a simple movement like the on we just did, but on more complexe ones, the difference can be quite important. \n",
    "\n",
    "Like we said before, minjerk interpolation gives more natural movements. Try it yourself with custom movements!\n",
    "\n",
    "You can try with the following goal position for example where Reachy places its right end-effector on its right hip."
   ]
  },
  {
   "cell_type": "code",
   "execution_count": 62,
   "metadata": {},
   "outputs": [],
   "source": [
    "harder_pos = {\n",
    "'r_shoulder_pitch': 16.726945447159054,\n",
    " 'r_shoulder_roll': -66.43789209449601,\n",
    " 'r_arm_yaw': 61.054944877528094,\n",
    " 'r_elbow_pitch': -120.92307608487477,\n",
    " 'r_forearm_yaw': -12.463343291751162,\n",
    " 'r_wrist_pitch': -27.824175772826795,\n",
    " 'r_wrist_roll': 41.20234435672571,\n",
    " 'r_gripper': -25.073313669509574\n",
    "}"
   ]
  },
  {
   "cell_type": "markdown",
   "metadata": {},
   "source": [
    "## Arm coordinate system"
   ]
  },
  {
   "cell_type": "markdown",
   "metadata": {},
   "source": [
    "### Joint coordinates"
   ]
  },
  {
   "cell_type": "markdown",
   "metadata": {},
   "source": [
    "In all examples above, we have used what is called joint coordinates to move Reachy. This means that we have controlled each joint separately."
   ]
  },
  {
   "cell_type": "markdown",
   "metadata": {},
   "source": [
    "### Kinematic model"
   ]
  },
  {
   "cell_type": "markdown",
   "metadata": {},
   "source": [
    "Controlling a robot in joint coordinates can be hard and is often far from what we actually do as humans. When we want to grasp an object in front of us, we think of where we should put our hand, not how to flex each individual muscle to reach this position. This approach relies on the cartesian coordinates: the 3D position and orientation in space.\n",
    "\n",
    "Forward and Inverse Kinematics is a way to go from one coordinates system to the other:\n",
    "\n",
    "* **forward kinematics: joint coordinates –> cartesian coordinates**\n",
    "* **inverse kinematics: cartesian coordinates –> joint coordinates**\n",
    "\n",
    "We have defined the whole kinematic model of the arm. This means the translation and rotation required to go from one joint to the next one. On a right arm equipped with a force gripper this actually look like this:\n",
    "\n",
    "<img src=\"https://raw.githubusercontent.com/pollen-robotics/reachy-sdk/notebooks_documentation/notebooks/images/kinematics/right_arm_kinematic_model.png?token=AHZJ5IGJ7XNJFFZHHQTTZODAMHYQG\" alt=\"drawing\" width=\"300\"/>"
   ]
  },
  {
   "cell_type": "markdown",
   "metadata": {},
   "source": [
    "To use and understand the kinematic model, you need to know how Reachy coordinate system is defined (from Reachy's perspective), see below:\n",
    "\n",
    "<img src=\"https://raw.githubusercontent.com/pollen-robotics/reachy-sdk/notebooks_documentation/notebooks/images/kinematics/arm_axis.png?token=AHZJ5ID66GQKUY3FBQ74GR3AMHNIU\" alt=\"drawing\" width=\"300\"/>\n",
    "\n",
    "* the X axis corresponds to the foward arrow.\n",
    "* the Y axis corresponds to the right to left arrow.\n",
    "* the Z axis corresponds to the up arrow.\n",
    "\n",
    "The origin of this coordinate system is located in the upper part of the robot trunk. Basically, if you imagine a segment going from the left shoulder to the right shoulder of the robot, the origin is the middle of this segment.\n",
    "\n",
    "The units used for this coordinate system are the meter. So the point (0.3, -0.2, 0) is 30cm in front of the origin, 20cm to the right and at the same height."
   ]
  },
  {
   "cell_type": "markdown",
   "metadata": {},
   "source": [
    "## Forward kinematics"
   ]
  },
  {
   "cell_type": "markdown",
   "metadata": {},
   "source": [
    "Using the joint coordinates and the kinematic model defined above, we can compute the 3D position and orientation of the right or left end-effector with the *forward_kinematics* method.\n",
    "\n",
    "We consider the end-effector to be in a virtual joint located in the gripper and referred as *'right_tip'* or *'left_tip'* in the [urdf file](https://github.com/pollen-robotics/reachy_kinematics/blob/master/reachy.URDF), as shown below. "
   ]
  },
  {
   "cell_type": "markdown",
   "metadata": {},
   "source": [
    "<img src=\"https://raw.githubusercontent.com/pollen-robotics/reachy-sdk/notebooks_documentation/notebooks/images/kinematics/eef.png\" alt=\"drawing\" width=\"200\"/>\n",
    "\n",
    "The origin of the frame corresponds to the *'right_tip'*.\n",
    "\n",
    "You can see the right and left end-effectors animated in the gif below.\n",
    "\n",
    "<img src=\"https://raw.githubusercontent.com/pollen-robotics/reachy-sdk/notebooks_documentation/notebooks/images/safety/reachy_eef.gif\" alt=\"drawing\" width=\"300\"/>"
   ]
  },
  {
   "cell_type": "code",
   "execution_count": 20,
   "metadata": {},
   "outputs": [
    {
     "data": {
      "text/plain": [
       "array([[ 0.07297327,  0.04151189, -0.9964696 ,  0.48141822],\n",
       "       [ 0.13201542,  0.98993957,  0.05090758, -0.21421645],\n",
       "       [ 0.98855796, -0.13526424,  0.06675892, -0.30646518],\n",
       "       [ 0.        ,  0.        ,  0.        ,  1.        ]])"
      ]
     },
     "execution_count": 20,
     "metadata": {},
     "output_type": "execute_result"
    }
   ],
   "source": [
    "reachy.r_arm.forward_kinematics()"
   ]
  },
  {
   "cell_type": "markdown",
   "metadata": {},
   "source": [
    "The 4x4 matrix returned by the *forward_kinematics* method is what is often called a pose. It actually encodes both the 3D translation (as a 3D vector) and the 3D rotation (as a 3x3 matrix) into one single representation. \n",
    "\n",
    "\\begin{bmatrix}\n",
    "R_{11} & R_{12} & R_{13} & T_{x} \\\\\n",
    "R_{21} & R_{22} & R_{23} & T_{y} \\\\\n",
    "R_{31} & R_{32} & R_{33} & T_{z} \\\\\n",
    "0 & 0 & 0 & 1 \\\\\n",
    "\\end{bmatrix}"
   ]
  },
  {
   "cell_type": "markdown",
   "metadata": {},
   "source": [
    "The instruction \n",
    "\n",
    "```python\n",
    "reachy.r_arm.forward_kinematics()\n",
    "```\n",
    "\n",
    "returns the current pose of the right end-effector, based on the present position of every joint in the right arm. \n",
    "\n",
    "You can also compute the pose for a given configuration, to do that just pass the list of position as argument of *forward_kinematics*. Be careful to respect the order of the position you give.\n",
    "\n",
    "For example, we can compute the forward kinematics for the right-angle position we used earlier."
   ]
  },
  {
   "cell_type": "code",
   "execution_count": 5,
   "metadata": {},
   "outputs": [
    {
     "data": {
      "text/plain": [
       "array([[ 0.    ,  0.    , -1.    ,  0.3675],\n",
       "       [ 0.    ,  1.    ,  0.    , -0.202 ],\n",
       "       [ 1.    ,  0.    ,  0.    , -0.28  ],\n",
       "       [ 0.    ,  0.    ,  0.    ,  1.    ]])"
      ]
     },
     "execution_count": 5,
     "metadata": {},
     "output_type": "execute_result"
    }
   ],
   "source": [
    "reachy.r_arm.forward_kinematics(list(right_angle_position.values())[:-1])"
   ]
  },
  {
   "cell_type": "markdown",
   "metadata": {},
   "source": [
    "With this result, we can tell that when the right arm is in the right angle position, the right end-effector is 37cm in front of the origin, 20cm to the left and 28cm below the origin.the same height.\n",
    "\n",
    "The rotation matrix \n",
    "\n",
    "\\begin{bmatrix}\n",
    "0 & 0 & -1\\\\\n",
    "0 & 1 & 0\\\\\n",
    "1 & 0 & 0\\\\\n",
    "\\end{bmatrix}\n",
    "\n",
    "means that the hand is facing forward.\n",
    "\n",
    "A rotation matrix equal to the identity matrix \n",
    "\n",
    "\\begin{bmatrix}\n",
    "1 & 0 & 0\\\\\n",
    "0 & 1 & 0\\\\\n",
    "0 & 0 & 1\\\\\n",
    "\\end{bmatrix}\n",
    "\n",
    "means that the hand is facing toward the bottom."
   ]
  },
  {
   "cell_type": "markdown",
   "metadata": {},
   "source": [
    "## Inverse kinematics"
   ]
  },
  {
   "cell_type": "code",
   "execution_count": 6,
   "metadata": {},
   "outputs": [
    {
     "data": {
      "text/plain": [
       "[0.0, 0.0, 0.0, -90.0, 0.0, 0.0, 0.0]"
      ]
     },
     "execution_count": 6,
     "metadata": {},
     "output_type": "execute_result"
    }
   ],
   "source": [
    "reachy.r_arm.inverse_kinematics(reachy.r_arm.forward_kinematics(list(right_angle_position.values())[:-1]))"
   ]
  },
  {
   "cell_type": "markdown",
   "metadata": {},
   "source": [
    "Knowing where you arm is located in the 3D space can be useful but most of the time what you want is to move the arm in cartesian coordinates. You want to have the possibility to say: “move your hand to [x, y, z] with a 90° rotation around the Z axis”.\n",
    "\n",
    "This is what inverse kinematics does. We have provided a method to help you with that. You need to give it a 4x4 target pose (as given as a result by the forward kinematics) and an initial joint state.\n",
    "\n",
    "To make this more concrete, let's first try with a simple example. We will make the hand of the robot goes from a point A to a point B in 3D space. You always have to provide poses to the inverse kinematics that are actually reachable by the robot.\n",
    "\n",
    "For our starting point, let's imagine a point in front of the robot rigth shoulder and slightly below. If you remember Reachy coordinate system, we can define such a point with the following coordinates:\n",
    "\n",
    "\\begin{equation} A =\n",
    "\\begin{pmatrix}\n",
    "0.3 & -0.2 & -0.3\n",
    "\\end{pmatrix}\n",
    "\\end{equation}\n",
    "\n",
    "For our end point we will stay in a parallel plan in front of the robot (we keep the same x) and move to the upper left (20cm up and 20cm left). This gives us a B point such that:\n",
    "\n",
    "\\begin{equation} B =\n",
    "\\begin{pmatrix}\n",
    "0.3 & 0.0 & -0.1\n",
    "\\end{pmatrix}\n",
    "\\end{equation}\n",
    "\n",
    "But having the 3D position is not enough to design a pose. You also need to provide the 3D orientation. The identity rotation matrix corresponds to the zero position of the robot, ie. when the hand is facing toward the bottom. So if we want the hand facing forward when going from A to B, we need to rotate it from -90° around the y axis."
   ]
  },
  {
   "cell_type": "code",
   "execution_count": null,
   "metadata": {},
   "outputs": [],
   "source": []
  }
 ],
 "metadata": {
  "kernelspec": {
   "display_name": "Python 3",
   "language": "python",
   "name": "python3"
  },
  "language_info": {
   "codemirror_mode": {
    "name": "ipython",
    "version": 3
   },
   "file_extension": ".py",
   "mimetype": "text/x-python",
   "name": "python",
   "nbconvert_exporter": "python",
   "pygments_lexer": "ipython3",
   "version": "3.8.5"
  }
 },
 "nbformat": 4,
 "nbformat_minor": 4
}
