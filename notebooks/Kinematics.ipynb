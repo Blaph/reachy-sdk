{
 "cells": [
  {
   "cell_type": "markdown",
   "metadata": {},
   "source": [
    "# Reachy kinematics"
   ]
  },
  {
   "cell_type": "markdown",
   "metadata": {},
   "source": [
    "In this notebook we will move Reachy's arms!"
   ]
  },
  {
   "cell_type": "markdown",
   "metadata": {},
   "source": [
    "As explained in other notebooks, you can set target position to the joints if and only if the motors are in stiff mode. There are two ways to send a new target position: \n",
    "\n",
    "* **goal_position**: when this attribute is set, the joint will try to reach it as fast as it can and it can be pretty fast (up to 700 degrees per second). You can lower the *speed_limit* but we don't recommend to use this method as it gets really hard to follow complex trajectories and have precise timing. Even though you can change the motor speed, you have no control over the acceleration.  \n",
    "\n",
    "\n",
    "* **goto()**: instead of playing with the goal_position you can use the *goto* method that we implemented. This method generates a trajectory between the present position and the goal position. This trajectory is then interpolated at a predefined frequency (100Hz) to compute all intermediary target position that should be followed before reaching the final goal position. Depending on the interpolation mode chosen, you can have a better control over speed and acceleration.\n",
    "\n",
    "The two interpolation modes that we use consist in working either linearly or with the minjerk function.\n",
    "\n",
    "<img src=\"images/kinematics/interpolation.png\" alt=\"drawing\" width=\"500\"/>"
   ]
  },
  {
   "cell_type": "markdown",
   "metadata": {},
   "source": [
    "Both trajectories start and finish at the same point but don't follow the same intermediate positions.\n",
    "The minimum jerk will slowly accelerate at the begining and slowly decelerate at the end. This make the movements way more natural, you'll see this below."
   ]
  },
  {
   "cell_type": "markdown",
   "metadata": {},
   "source": [
    "Now let's make our robot move! You will make the same arm movement but in three different ways, using the *goal_position* and the *goto* method with both modes of interpolation."
   ]
  },
  {
   "cell_type": "markdown",
   "metadata": {},
   "source": [
    "You will put Reachy's right arm in the right-angled position, so place it on a table and make sure that there are no obstacles along its way."
   ]
  },
  {
   "cell_type": "code",
   "execution_count": 47,
   "metadata": {},
   "outputs": [],
   "source": [
    "from reachy_sdk import ReachySDK\n",
    "\n",
    "from reachy_sdk.trajectory.interpolation import InterpolationMode"
   ]
  },
  {
   "cell_type": "code",
   "execution_count": 2,
   "metadata": {},
   "outputs": [],
   "source": [
    "reachy = ReachySDK(host='localhost')"
   ]
  },
  {
   "cell_type": "code",
   "execution_count": 3,
   "metadata": {},
   "outputs": [
    {
     "name": "stdout",
     "output_type": "stream",
     "text": [
      "r_shoulder_pitch\n",
      "r_shoulder_roll\n",
      "r_arm_yaw\n",
      "r_elbow_pitch\n",
      "r_forearm_yaw\n",
      "r_wrist_pitch\n",
      "r_wrist_roll\n",
      "r_gripper\n"
     ]
    }
   ],
   "source": [
    "# Reachy's right arm joints are joints 8 to 15\n",
    "for joint in reachy.joints[8:16]:\n",
    "    print(joint.name)"
   ]
  },
  {
   "cell_type": "markdown",
   "metadata": {},
   "source": [
    "### goal_position"
   ]
  },
  {
   "cell_type": "markdown",
   "metadata": {},
   "source": [
    "First, we will use set the *goal_psoition* on each joint to put the right arm in a right-agnled position. "
   ]
  },
  {
   "cell_type": "code",
   "execution_count": 17,
   "metadata": {},
   "outputs": [],
   "source": [
    "for joint in reachy.joints[8:16]:\n",
    "    joint.compliant = False\n",
    "\n",
    "# Define what the goal_position of each joint will be\n",
    "right_angle_position = {\n",
    "    'r_shoulder_pitch': 0,\n",
    "    'r_shoulder_roll': 0,\n",
    "    'r_arm_yaw': 0,\n",
    "    'r_elbow_pitch': -90,\n",
    "    'r_forearm_yaw': 0,\n",
    "    'r_wrist_pitch': 0,\n",
    "    'r_wrist_roll': 0,\n",
    "    'r_gripper': 0,\n",
    "}\n",
    "\n",
    "#Set each goal_position\n",
    "from operator import attrgetter\n",
    "\n",
    "for name, goal in zip(right_angle_position.keys(), right_angle_position.values()):\n",
    "    joint = attrgetter(name)(reachy)\n",
    "    joint.goal_position = goal"
   ]
  },
  {
   "cell_type": "markdown",
   "metadata": {},
   "source": [
    "A bit too fast, isn't it?"
   ]
  },
  {
   "cell_type": "markdown",
   "metadata": {},
   "source": [
    "Now we will put the joints back to compliant mode, so put your hand below the arm to prevent the arm from falling on the table."
   ]
  },
  {
   "cell_type": "code",
   "execution_count": 18,
   "metadata": {},
   "outputs": [],
   "source": [
    "for joint in reachy.joints[8:16]:\n",
    "    joint.compliant = True"
   ]
  },
  {
   "cell_type": "markdown",
   "metadata": {},
   "source": [
    "### goto with linear interpolation"
   ]
  },
  {
   "cell_type": "code",
   "execution_count": 76,
   "metadata": {},
   "outputs": [],
   "source": [
    "# First put the joints of the right arm in stiff mode\n",
    "for joint in reachy.joints[8:16]:\n",
    "    joint.compliant = False"
   ]
  },
  {
   "cell_type": "code",
   "execution_count": 77,
   "metadata": {},
   "outputs": [],
   "source": [
    "reachy.goto(\n",
    "    {getattr(reachy, joint.name): gp for joint, gp in zip(reachy.joints[8:16], higher_pos.values())},\n",
    "duration=2.0,\n",
    "interpolation_mode=InterpolationMode.LINEAR,\n",
    ")"
   ]
  },
  {
   "cell_type": "code",
   "execution_count": 78,
   "metadata": {},
   "outputs": [],
   "source": [
    "# First put the joints of the right arm in stiff mode\n",
    "for joint in reachy.joints[8:16]:\n",
    "    joint.compliant = True"
   ]
  },
  {
   "cell_type": "markdown",
   "metadata": {},
   "source": [
    "### goto with minjerk interpolation"
   ]
  },
  {
   "cell_type": "code",
   "execution_count": 79,
   "metadata": {},
   "outputs": [],
   "source": [
    "# First put the joints of the right arm in stiff mode\n",
    "for joint in reachy.joints[8:16]:\n",
    "    joint.compliant = False"
   ]
  },
  {
   "cell_type": "code",
   "execution_count": 80,
   "metadata": {},
   "outputs": [],
   "source": [
    "reachy.goto(\n",
    "    {getattr(reachy, joint.name): gp for joint, gp in zip(reachy.joints[8:16], higher_pos.values())},\n",
    "duration=2.0,\n",
    "interpolation_mode=InterpolationMode.MINIMUM_JERK\n",
    ")"
   ]
  },
  {
   "cell_type": "code",
   "execution_count": 81,
   "metadata": {},
   "outputs": [],
   "source": [
    "for joint in reachy.joints[8:16]:\n",
    "    joint.compliant = True"
   ]
  },
  {
   "cell_type": "code",
   "execution_count": 68,
   "metadata": {},
   "outputs": [],
   "source": [
    "higher_pos = {joint.name: joint.present_position for joint in reachy.joints[8:16]}"
   ]
  },
  {
   "cell_type": "code",
   "execution_count": 69,
   "metadata": {},
   "outputs": [
    {
     "data": {
      "text/plain": [
       "{'r_shoulder_pitch': -6.4818465341343385,\n",
       " 'r_shoulder_roll': -0.24008811291725043,\n",
       " 'r_arm_yaw': 1.6263735891470539,\n",
       " 'r_elbow_pitch': -119.60439878257708,\n",
       " 'r_forearm_yaw': 1.6129031754433194,\n",
       " 'r_wrist_pitch': 31.076923591451138,\n",
       " 'r_wrist_roll': 7.77126117159357,\n",
       " 'r_gripper': -9.824047205884222}"
      ]
     },
     "execution_count": 69,
     "metadata": {},
     "output_type": "execute_result"
    }
   ],
   "source": [
    "higher_pos"
   ]
  },
  {
   "cell_type": "code",
   "execution_count": 13,
   "metadata": {},
   "outputs": [
    {
     "data": {
      "text/plain": [
       "array([[ 0.02274451, -0.34644187, -0.93779567,  0.30715529],\n",
       "       [ 0.18541031,  0.92322709, -0.33656314, -0.01128561],\n",
       "       [ 0.98239794, -0.16622202,  0.08523225, -0.16876404],\n",
       "       [ 0.        ,  0.        ,  0.        ,  1.        ]])"
      ]
     },
     "execution_count": 13,
     "metadata": {},
     "output_type": "execute_result"
    }
   ],
   "source": [
    "reachy.r_arm.forward_kinematics()"
   ]
  },
  {
   "cell_type": "code",
   "execution_count": 23,
   "metadata": {},
   "outputs": [],
   "source": [
    "goal_pos = reachy.r_arm.inverse_kinematics(reachy.r_arm.forward_kinematics())"
   ]
  },
  {
   "cell_type": "code",
   "execution_count": 27,
   "metadata": {},
   "outputs": [],
   "source": [
    "for joint in reachy.joints[8:16]:\n",
    "    joint.compliant = True"
   ]
  },
  {
   "cell_type": "code",
   "execution_count": 25,
   "metadata": {},
   "outputs": [
    {
     "name": "stdout",
     "output_type": "stream",
     "text": [
      "r_shoulder_pitch\n",
      "r_shoulder_roll\n",
      "r_arm_yaw\n",
      "r_elbow_pitch\n",
      "r_forearm_yaw\n",
      "r_wrist_pitch\n",
      "r_wrist_roll\n",
      "r_gripper\n"
     ]
    }
   ],
   "source": [
    "for joint in reachy.joints[8:16]:\n",
    "    print(joint.name)"
   ]
  },
  {
   "cell_type": "code",
   "execution_count": 23,
   "metadata": {},
   "outputs": [],
   "source": [
    "for joint, gp in zip(reachy.joints[8:16], goal_pos):\n",
    "    joint.goal_position = gp"
   ]
  },
  {
   "cell_type": "code",
   "execution_count": 25,
   "metadata": {},
   "outputs": [],
   "source": [
    "reachy.goto(\n",
    "    {getattr(reachy, joint.name): gp for joint, gp in zip(reachy.joints[8:16], goal_pos)},\n",
    "    duration=2.0,\n",
    ")"
   ]
  },
  {
   "cell_type": "code",
   "execution_count": 29,
   "metadata": {},
   "outputs": [
    {
     "data": {
      "text/plain": [
       "{<Joint name=\"r_shoulder_pitch\" pos=\"-4.99\" mode=\"compliant\">: -7.307031502758012,\n",
       " <Joint name=\"r_shoulder_roll\" pos=\"-4.20\" mode=\"compliant\">: -4.21526265221073,\n",
       " <Joint name=\"r_arm_yaw\" pos=\"4.79\" mode=\"compliant\">: 5.189068731020693,\n",
       " <Joint name=\"r_elbow_pitch\" pos=\"-49.89\" mode=\"compliant\">: -84.01775158307635,\n",
       " <Joint name=\"r_forearm_yaw\" pos=\"7.77\" mode=\"compliant\">: 8.293689313434687,\n",
       " <Joint name=\"r_wrist_pitch\" pos=\"-39.52\" mode=\"compliant\">: 0.8513088274288462,\n",
       " <Joint name=\"r_wrist_roll\" pos=\"0.73\" mode=\"compliant\">: 0.429521922579425}"
      ]
     },
     "execution_count": 29,
     "metadata": {},
     "output_type": "execute_result"
    }
   ],
   "source": [
    "{getattr(reachy, joint.name): gp for joint, gp in zip(reachy.joints[8:16], goal_pos)}"
   ]
  },
  {
   "cell_type": "markdown",
   "metadata": {},
   "source": [
    "## Forward/Inverse kinematics"
   ]
  },
  {
   "cell_type": "markdown",
   "metadata": {},
   "source": [
    "Both forward and inverse kinematics are available on Reachy.\n",
    "\n",
    "For those who don't kow what these are, the forward kinematics compute the 3D position and orientation of any joint in the arm whereas the inverse kinematics "
   ]
  },
  {
   "cell_type": "markdown",
   "metadata": {},
   "source": [
    "Really be aware of the robot frame. \n",
    "\n",
    "Cordinates are in meter. \n",
    "\n",
    "Inverse kinematics can send you anywhere. "
   ]
  },
  {
   "cell_type": "markdown",
   "metadata": {},
   "source": [
    "<img src=\"images/kinematics/arm_axis.png\" alt=\"drawing\" width=\"300\"/>"
   ]
  },
  {
   "cell_type": "code",
   "execution_count": null,
   "metadata": {},
   "outputs": [],
   "source": []
  }
 ],
 "metadata": {
  "kernelspec": {
   "display_name": "Python 3",
   "language": "python",
   "name": "python3"
  },
  "language_info": {
   "codemirror_mode": {
    "name": "ipython",
    "version": 3
   },
   "file_extension": ".py",
   "mimetype": "text/x-python",
   "name": "python",
   "nbconvert_exporter": "python",
   "pygments_lexer": "ipython3",
   "version": "3.8.5"
  }
 },
 "nbformat": 4,
 "nbformat_minor": 4
}
