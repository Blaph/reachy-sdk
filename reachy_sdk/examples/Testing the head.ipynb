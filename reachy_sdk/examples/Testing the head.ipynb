{
 "cells": [
  {
   "cell_type": "code",
   "execution_count": 1,
   "id": "0d933ac2",
   "metadata": {},
   "outputs": [],
   "source": [
    "from reachy_sdk import ReachySDK"
   ]
  },
  {
   "cell_type": "markdown",
   "id": "c6b5cd59",
   "metadata": {},
   "source": [
    "Connect to Reachy. If you're working directly on the robot, use\n",
    "\n",
    "```python\n",
    "host='localhost'\n",
    "```\n",
    "\n",
    "If not, just get Reachy's IP address with\n",
    "\n",
    "```bash\n",
    "$ ifconfig\n",
    "```\n",
    "\n",
    "and replace the host argument zith the IP address."
   ]
  },
  {
   "cell_type": "code",
   "execution_count": 2,
   "id": "ecfbe8fc",
   "metadata": {},
   "outputs": [],
   "source": [
    "reachy = ReachySDK(host='localhost')"
   ]
  },
  {
   "cell_type": "markdown",
   "id": "643096f9",
   "metadata": {},
   "source": [
    "Check if you see the five joints of the head."
   ]
  },
  {
   "cell_type": "code",
   "execution_count": 3,
   "id": "05712290",
   "metadata": {},
   "outputs": [
    {
     "data": {
      "text/plain": [
       "<Head joints=<Holder\n",
       "\t<Joint name=\"l_antenna\" pos=\"-0.15\" mode=\"compliant\">\n",
       "\t<Joint name=\"r_antenna\" pos=\"1.03\" mode=\"compliant\">\n",
       "\t<Joint name=\"neck_disk_top\" pos=\"-50.26\" mode=\"compliant\">\n",
       "\t<Joint name=\"neck_disk_middle\" pos=\"-56.95\" mode=\"compliant\">\n",
       "\t<Joint name=\"neck_disk_bottom\" pos=\"-53.34\" mode=\"compliant\">\n",
       ">>"
      ]
     },
     "execution_count": 3,
     "metadata": {},
     "output_type": "execute_result"
    }
   ],
   "source": [
    "reachy.head"
   ]
  },
  {
   "cell_type": "markdown",
   "id": "756a520c",
   "metadata": {},
   "source": [
    "Use look_at to see if the zero has been actually done."
   ]
  },
  {
   "cell_type": "markdown",
   "id": "2e210b2e",
   "metadata": {},
   "source": [
    "## Checking Orbita"
   ]
  },
  {
   "cell_type": "code",
   "execution_count": 4,
   "id": "d205bb18",
   "metadata": {},
   "outputs": [],
   "source": [
    "reachy.turn_on('head')"
   ]
  },
  {
   "cell_type": "markdown",
   "id": "243efbe9",
   "metadata": {},
   "source": [
    "Make Reachy look forward."
   ]
  },
  {
   "cell_type": "code",
   "execution_count": 5,
   "id": "815a4183",
   "metadata": {},
   "outputs": [],
   "source": [
    "reachy.head.look_at(x=0.5, y=0, z=0, duration=1.0)"
   ]
  },
  {
   "cell_type": "markdown",
   "id": "56efdbec",
   "metadata": {},
   "source": [
    "If this didn't work, it's likely that the zeros of Orbita have not been set. To do that use [orbita_zero.py](https://github.com/pollen-robotics/reachy_controllers/blob/master/setup/orbita_zero.py)."
   ]
  },
  {
   "cell_type": "markdown",
   "id": "ce1999be",
   "metadata": {},
   "source": [
    "Next, reproduce the look_at sequence of the [documentation](https://pollen-robotics.github.io/reachy-2021-docs/sdk/first-moves/head/#orbita-look_at-method)."
   ]
  },
  {
   "cell_type": "code",
   "execution_count": 6,
   "id": "ec9b7a02",
   "metadata": {},
   "outputs": [],
   "source": [
    "import time\n",
    "\n",
    "look_right = reachy.head.look_at(x=0.5, y=-0.5, z=0.1, duration=1.0)\n",
    "time.sleep(0.5)\n",
    "look_down = reachy.head.look_at(x=0.5, y=0, z=-0.4, duration=1.0)\n",
    "time.sleep(0.5)\n",
    "look_left = reachy.head.look_at(x=0.5, y=0.3, z=-0.3, duration=1.0)\n",
    "time.sleep(0.5)\n",
    "look_front = reachy.head.look_at(x=0.5, y=0, z=0, duration=1.0)"
   ]
  },
  {
   "cell_type": "markdown",
   "id": "6858fa4b",
   "metadata": {},
   "source": [
    "Make the head follow the end-effector. It is a good opportunity to check the forward kinematics of each arm as well.\n",
    "\n",
    "**Press the square button 'interrupt the kernel' when you want to stop this.**\n",
    "\n",
    "With the right arm:"
   ]
  },
  {
   "cell_type": "code",
   "execution_count": 8,
   "id": "1062c215",
   "metadata": {},
   "outputs": [],
   "source": [
    "try:\n",
    "    x, y, z = reachy.r_arm.forward_kinematics()[:3,-1] # We want the translation part of Reachy's pose matrix\n",
    "    reachy.head.look_at(x=x, y=y, z=z-0.05, duration=1.0) # There is a 5cm offset on the z axis\n",
    "\n",
    "    time.sleep(0.5)\n",
    "\n",
    "    while True:\n",
    "        x, y, z = reachy.r_arm.forward_kinematics()[:3,-1]\n",
    "        gp_dic = reachy.head._look_at(x, y, z - 0.05)\n",
    "        reachy.head.neck_disk_bottom.goal_position = gp_dic[reachy.head.neck_disk_bottom]\n",
    "        reachy.head.neck_disk_middle.goal_position = gp_dic[reachy.head.neck_disk_middle]\n",
    "        reachy.head.neck_disk_top.goal_position = gp_dic[reachy.head.neck_disk_top]\n",
    "        time.sleep(0.01)\n",
    "except AttributeError:\n",
    "    print('Reachy has no right arm!')"
   ]
  },
  {
   "cell_type": "markdown",
   "id": "d972c85a",
   "metadata": {},
   "source": [
    "With the left arm:"
   ]
  },
  {
   "cell_type": "code",
   "execution_count": 19,
   "id": "0d981a61",
   "metadata": {},
   "outputs": [],
   "source": [
    "try:\n",
    "    x, y, z = reachy.l_arm.forward_kinematics()[:3,-1] # We want the translation part of Reachy's pose matrix\n",
    "    reachy.head.look_at(x=x, y=y, z=z-0.05, duration=1.0) # There is a 5cm offset on the z axis\n",
    "\n",
    "    time.sleep(0.5)\n",
    "\n",
    "    while True:\n",
    "        x, y, z = reachy.l_arm.forward_kinematics()[:3,-1]\n",
    "        gp_dic = reachy.head._look_at(x, y, z - 0.05)\n",
    "        reachy.head.neck_disk_bottom.goal_position = gp_dic[reachy.head.neck_disk_bottom]\n",
    "        reachy.head.neck_disk_middle.goal_position = gp_dic[reachy.head.neck_disk_middle]\n",
    "        reachy.head.neck_disk_top.goal_position = gp_dic[reachy.head.neck_disk_top]\n",
    "        time.sleep(0.01)\n",
    "except AttributeError:\n",
    "    print('Reachy has no left arm!')"
   ]
  },
  {
   "cell_type": "markdown",
   "id": "844312e6",
   "metadata": {},
   "source": [
    "## Checking the antennas\n",
    "\n",
    "Check that the l_antenna is actually the left and that r_antenna is the right."
   ]
  },
  {
   "cell_type": "code",
   "execution_count": 9,
   "id": "c20ba637",
   "metadata": {},
   "outputs": [],
   "source": [
    "reachy.head.l_antenna.goal_position = -40"
   ]
  },
  {
   "cell_type": "code",
   "execution_count": 10,
   "id": "a9facac4",
   "metadata": {},
   "outputs": [],
   "source": [
    "reachy.head.l_antenna.goal_position = 0"
   ]
  },
  {
   "cell_type": "code",
   "execution_count": 11,
   "id": "9317ea0a",
   "metadata": {},
   "outputs": [],
   "source": [
    "reachy.head.r_antenna.goal_position = -40"
   ]
  },
  {
   "cell_type": "code",
   "execution_count": 12,
   "id": "ccb98642",
   "metadata": {},
   "outputs": [],
   "source": [
    "reachy.head.r_antenna.goal_position = 0"
   ]
  },
  {
   "cell_type": "markdown",
   "id": "7dd667ba",
   "metadata": {},
   "source": [
    "Reproduce the sad and happy movements from the [documentation](https://pollen-robotics.github.io/reachy-2021-docs/sdk/first-moves/head/#antennas)."
   ]
  },
  {
   "cell_type": "code",
   "execution_count": 13,
   "id": "ff9d530e",
   "metadata": {},
   "outputs": [],
   "source": [
    "def happy_antennas():\n",
    "    reachy.head.l_antenna.speed_limit = 0.0\n",
    "    reachy.head.r_antenna.speed_limit = 0.0\n",
    "    \n",
    "    for _ in range(9):\n",
    "        reachy.head.l_antenna.goal_position = 10.0\n",
    "        reachy.head.r_antenna.goal_position = -10.0\n",
    "\n",
    "        time.sleep(0.1)\n",
    "\n",
    "        reachy.head.l_antenna.goal_position = -10.0\n",
    "        reachy.head.r_antenna.goal_position = 10.0\n",
    "\n",
    "        time.sleep(0.1)\n",
    "    \n",
    "    reachy.head.l_antenna.goal_position = 0.0\n",
    "    reachy.head.r_antenna.goal_position = 0.0\n",
    "        \n",
    "def sad_antennas():\n",
    "    reachy.head.l_antenna.speed_limit = 70.0\n",
    "    reachy.head.r_antenna.speed_limit = 70.0\n",
    "    \n",
    "    reachy.head.l_antenna.goal_position = 140.0\n",
    "    reachy.head.r_antenna.goal_position = -140.0\n",
    "    \n",
    "    time.sleep(5.0)\n",
    "    \n",
    "    reachy.head.l_antenna.goal_position = 0.0\n",
    "    reachy.head.r_antenna.goal_position = 0.0"
   ]
  },
  {
   "cell_type": "code",
   "execution_count": 14,
   "id": "d34affa3",
   "metadata": {},
   "outputs": [],
   "source": [
    "happy_antennas()"
   ]
  },
  {
   "cell_type": "code",
   "execution_count": 15,
   "id": "41e4cdda",
   "metadata": {},
   "outputs": [],
   "source": [
    "sad_antennas()"
   ]
  },
  {
   "cell_type": "markdown",
   "id": "fc2b0da7",
   "metadata": {},
   "source": [
    "Once you're done using the antennas, make Reachy look forward."
   ]
  },
  {
   "cell_type": "code",
   "execution_count": null,
   "id": "81cd36cd",
   "metadata": {},
   "outputs": [],
   "source": [
    "reachy.head.look_at(x=0.5, y=0, z=0, duration=1.0)"
   ]
  },
  {
   "cell_type": "markdown",
   "id": "7659724b",
   "metadata": {},
   "source": [
    "and turn off the motors."
   ]
  },
  {
   "cell_type": "code",
   "execution_count": 17,
   "id": "2c583680",
   "metadata": {},
   "outputs": [],
   "source": [
    "reachy.turn_off('head')"
   ]
  },
  {
   "cell_type": "markdown",
   "id": "afd756b4",
   "metadata": {},
   "source": [
    "## Checking the motorized zooms"
   ]
  },
  {
   "cell_type": "markdown",
   "id": "265ce67a",
   "metadata": {},
   "source": [
    "Check out each of the three zoom levels defined on both cameras.\n",
    "\n",
    "At the same time, use [view_cam.py](https://github.com/pollen-robotics/reachy_controllers/blob/master/examples/view_cam.py) in *~/reachy_ws/src/reachy_controllers/examples* to visualize the cameras and check if the images are clear enough.\n",
    "\n",
    "To view the left camera, just type:\n",
    "```bash\n",
    "python3 ~/reachy_ws/src/reachy_controllers/examples/view_cam.py left ros\n",
    "```"
   ]
  },
  {
   "cell_type": "markdown",
   "id": "5afbd689",
   "metadata": {},
   "source": [
    "First, perform a homing."
   ]
  },
  {
   "cell_type": "code",
   "execution_count": 15,
   "id": "df9ae96c",
   "metadata": {},
   "outputs": [
    {
     "data": {
      "text/plain": [
       "True"
      ]
     },
     "execution_count": 15,
     "metadata": {},
     "output_type": "execute_result"
    }
   ],
   "source": [
    "from reachy_sdk.camera import ZoomLevel\n",
    "\n",
    "# reachy.left_camera.zoom_homing()\n",
    "reachy.right_camera.zoom_homing()\n",
    "reachy.left_camera.zoom_homing()"
   ]
  },
  {
   "cell_type": "markdown",
   "id": "7a3b9bc5",
   "metadata": {},
   "source": [
    "Then, test each zoom level."
   ]
  },
  {
   "cell_type": "code",
   "execution_count": 16,
   "id": "8723ad9c",
   "metadata": {},
   "outputs": [],
   "source": [
    "reachy.right_camera.zoom_level = ZoomLevel.INTER\n",
    "reachy.left_camera.zoom_level = ZoomLevel.INTER"
   ]
  },
  {
   "cell_type": "code",
   "execution_count": 14,
   "id": "bd2b4d61",
   "metadata": {},
   "outputs": [],
   "source": [
    "reachy.left_camera.zoom_level = ZoomLevel.OUT"
   ]
  },
  {
   "cell_type": "code",
   "execution_count": 15,
   "id": "1a05ac9a",
   "metadata": {},
   "outputs": [],
   "source": [
    "reachy.fans.l_antenna_fan.off()"
   ]
  },
  {
   "cell_type": "code",
   "execution_count": 16,
   "id": "62739019",
   "metadata": {},
   "outputs": [
    {
     "data": {
      "text/plain": [
       "10000"
      ]
     },
     "execution_count": 16,
     "metadata": {},
     "output_type": "execute_result"
    },
    {
     "name": "stderr",
     "output_type": "stream",
     "text": [
      "Exception in thread Thread-6:\n",
      "Traceback (most recent call last):\n",
      "  File \"/usr/lib/python3.8/threading.py\", line 932, in _bootstrap_inner\n",
      "    self.run()\n",
      "  File \"/usr/lib/python3.8/threading.py\", line 870, in run\n",
      "    self._target(*self._args, **self._kwargs)\n",
      "  File \"/home/reachy/dev/reachy-sdk/reachy_sdk/camera.py\", line 132, in poll_img\n",
      "    for resp in self._stub.StreamImage(stream_request):\n",
      "  File \"/home/reachy/.local/lib/python3.8/site-packages/grpc/_channel.py\", line 426, in __next__\n",
      "    return self._next()\n",
      "  File \"/home/reachy/.local/lib/python3.8/site-packages/grpc/_channel.py\", line 826, in _next\n",
      "    raise self\n",
      "grpc._channel._MultiThreadedRendezvous: <_MultiThreadedRendezvous of RPC that terminated with:\n",
      "\tstatus = StatusCode.UNAVAILABLE\n",
      "\tdetails = \"Socket closed\"\n",
      "\tdebug_error_string = \"{\"created\":\"@1620394638.490089613\",\"description\":\"Error received from peer ipv6:[::1]:50057\",\"file\":\"src/core/lib/surface/call.cc\",\"file_line\":1067,\"grpc_message\":\"Socket closed\",\"grpc_status\":14}\"\n",
      ">\n",
      "Exception in thread Thread-4:\n",
      "Traceback (most recent call last):\n",
      "  File \"/usr/lib/python3.8/threading.py\", line 932, in _bootstrap_inner\n",
      "    self.run()\n",
      "  File \"/usr/lib/python3.8/threading.py\", line 870, in run\n",
      "    self._target(*self._args, **self._kwargs)\n",
      "  File \"/home/reachy/dev/reachy-sdk/reachy_sdk/reachy_sdk.py\", line 176, in _start_sync_in_bg\n",
      "    loop.run_until_complete(self._sync_loop())\n",
      "  File \"/usr/lib/python3.8/asyncio/base_events.py\", line 616, in run_until_complete\n",
      "    return future.result()\n",
      "  File \"/home/reachy/dev/reachy-sdk/reachy_sdk/reachy_sdk.py\", line 231, in _sync_loop\n",
      "    await asyncio.gather(\n",
      "  File \"/home/reachy/dev/reachy-sdk/reachy_sdk/reachy_sdk.py\", line 186, in _get_stream_update_loop\n",
      "    async for state_update in joint_stub.StreamJointsState(stream_req):\n",
      "  File \"/home/reachy/.local/lib/python3.8/site-packages/grpc/aio/_call.py\", line 321, in _fetch_stream_responses\n",
      "    await self._raise_for_status()\n",
      "  File \"/home/reachy/.local/lib/python3.8/site-packages/grpc/aio/_call.py\", line 231, in _raise_for_status\n",
      "    raise _create_rpc_error(await self.initial_metadata(), await\n",
      "grpc.aio._call.AioRpcError: <AioRpcError of RPC that terminated with:\n",
      "\tstatus = StatusCode.UNAVAILABLE\n",
      "\tdetails = \"Cancelling all calls\"\n",
      "\tdebug_error_string = \"{\"created\":\"@1620394638.508625731\",\"description\":\"Error received from peer ipv6:[::1]:50055\",\"file\":\"src/core/lib/surface/call.cc\",\"file_line\":1067,\"grpc_message\":\"Cancelling all calls\",\"grpc_status\":14}\"\n",
      ">\n"
     ]
    }
   ],
   "source": [
    "reachy.left_camera.zoom_speed"
   ]
  },
  {
   "cell_type": "code",
   "execution_count": null,
   "id": "7611bd88",
   "metadata": {},
   "outputs": [],
   "source": []
  },
  {
   "cell_type": "code",
   "execution_count": null,
   "id": "d64104df",
   "metadata": {},
   "outputs": [],
   "source": []
  },
  {
   "cell_type": "code",
   "execution_count": null,
   "id": "f5146bc4",
   "metadata": {},
   "outputs": [],
   "source": []
  }
 ],
 "metadata": {
  "kernelspec": {
   "display_name": "Python 3",
   "language": "python",
   "name": "python3"
  },
  "language_info": {
   "codemirror_mode": {
    "name": "ipython",
    "version": 3
   },
   "file_extension": ".py",
   "mimetype": "text/x-python",
   "name": "python",
   "nbconvert_exporter": "python",
   "pygments_lexer": "ipython3",
   "version": "3.8.5"
  }
 },
 "nbformat": 4,
 "nbformat_minor": 5
}
